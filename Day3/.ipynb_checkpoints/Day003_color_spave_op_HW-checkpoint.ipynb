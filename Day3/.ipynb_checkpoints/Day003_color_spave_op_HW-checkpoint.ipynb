{
 "cells": [
  {
   "cell_type": "code",
   "execution_count": 1,
   "metadata": {},
   "outputs": [],
   "source": [
    "import cv2\n",
    "import numpy as np\n",
    "\n",
    "#讀取圖片,並轉化為HSV格式\n",
    "img_path = 'lena.png'\n",
    "img = cv2.imread(img_path,1)\n",
    "#cv2.imshow('origin',img)\n",
    "\n",
    "img_hsv = cv2.cvtColor(img,cv2.COLOR_BGR2HSV)\n",
    "change_ratio = 0.2\n",
    "\n",
    "#降低對比\n",
    "\n",
    "img_hsv_down = img_hsv.astype('float32')\n",
    "img_hsv_down[..., 1] = img_hsv_down[..., 1] / 255 - change_ratio\n",
    "img_hsv_down[..., 1] = img_hsv_down[..., 1] * 255\n",
    "img_hsv_down = img_hsv_down.astype('uint8')\n",
    "\n",
    "#身高對比\n",
    "img_hsv_up = img_hsv.astype('float32')\n",
    "img_hsv_up[...,1] = img_hsv_up[...,1]/255 + change_ratio\n",
    "img_hsv_up[...,1] = img_hsv_up[...,1]*255\n",
    "img_hsv_up = img_hsv_up.astype('uint8')\n",
    "\n",
    "\n",
    "\n",
    "#轉換回去\n",
    "img_hsv_down = cv2.cvtColor(img_hsv_down,cv2.COLOR_HSV2BGR)\n",
    "img_hsv_up = cv2.cvtColor(img_hsv_up,cv2.COLOR_HSV2BGR)\n",
    "\n",
    "\n",
    "\n",
    "\n",
    "\n",
    "#cv2.imshow('img_d',img_hsv_down)\n",
    "#cv2.imshow('img_u', img_hsv_up)\n",
    "\n",
    "img_all = np.hstack((img,img_hsv_down,img_hsv_up))\n",
    "#cv2.imshow('all',img_all)\n",
    "\n",
    "#cv2.imshow('pic',img)\n",
    "\n",
    "\n",
    "while True:\n",
    "    cv2.imshow('img_combine', img_all)\n",
    "    \n",
    "    k = cv2.waitKey(0)\n",
    "    if k == 27:\n",
    "        cv2.destroyAllWindows()\n",
    "        break\n"
   ]
  },
  {
   "cell_type": "code",
   "execution_count": 2,
   "metadata": {},
   "outputs": [],
   "source": [
    "#直方圖均衡\n",
    "\n",
    "img_gray = cv2.imread(img_path,0)\n",
    "img_gray_equ = cv2.equalizeHist(img_gray)\n",
    "#cv2.imshow('gray',img_gray_equ)\n",
    "\n",
    "img_gray_combine = np.hstack((img_gray,img_gray_equ))\n",
    "#cv2.imshow('gray',img_gray_combine)\n",
    "\n",
    "while True:\n",
    "    cv2.imshow('img_gray_combine', img_gray_combine)\n",
    "    \n",
    "    k = cv2.waitKey(0)\n",
    "    if k == 27:\n",
    "        cv2.destroyAllWindows()\n",
    "        break"
   ]
  },
  {
   "cell_type": "code",
   "execution_count": 3,
   "metadata": {},
   "outputs": [],
   "source": [
    "#調整對比/明亮\n",
    "#alpha控制對比:1~3  beta控制亮度:0~255\n",
    "    \n",
    "img_add_contrast = cv2.convertScaleAbs(img,alpha=2,beta=0)\n",
    "img_add_bright = cv2.convertScaleAbs(img,alpha=1,beta=50)\n",
    "\n",
    "img_contrast_bright = np.hstack((img_add_bright,img_add_contrast))\n",
    "\n",
    "while True:\n",
    "    cv2.imshow('img_contrast_bright', img_contrast_bright)\n",
    "    \n",
    "    k = cv2.waitKey(0)\n",
    "    if k == 27:\n",
    "        cv2.destroyAllWindows()\n",
    "        break"
   ]
  },
  {
   "cell_type": "code",
   "execution_count": null,
   "metadata": {},
   "outputs": [],
   "source": []
  }
 ],
 "metadata": {
  "kernelspec": {
   "display_name": "Python 3",
   "language": "python",
   "name": "python3"
  },
  "language_info": {
   "codemirror_mode": {
    "name": "ipython",
    "version": 3
   },
   "file_extension": ".py",
   "mimetype": "text/x-python",
   "name": "python",
   "nbconvert_exporter": "python",
   "pygments_lexer": "ipython3",
   "version": "3.7.0"
  }
 },
 "nbformat": 4,
 "nbformat_minor": 2
}
