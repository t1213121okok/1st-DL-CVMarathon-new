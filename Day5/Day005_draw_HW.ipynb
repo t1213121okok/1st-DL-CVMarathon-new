{
 "cells": [
  {
   "cell_type": "code",
   "execution_count": 2,
   "metadata": {},
   "outputs": [],
   "source": [
    "import cv2\n",
    "import numpy as np\n",
    "\n",
    "img_path = 'lena.png'\n",
    "img = cv2.imread(img_path,1)\n",
    "img_HSV = cv2.cvtColor(img,cv2.COLOR_BGR2HSV)\n",
    "img_HSV[...,2] = cv2.equalizeHist(img_HSV[...,2])\n",
    "img_HSV_eq = cv2.cvtColor(img_HSV,cv2.COLOR_HSV2BGR)\n",
    "\n",
    "#先畫紅框\n",
    "cv2.rectangle(img_HSV_eq,(60,40),(420,510),(0,0,255),3)\n",
    "\n",
    "\n",
    "#轉向 & 0.5倍\n",
    "img_HSV_eq_H_mirror = img_HSV_eq[:,::-1,:]\n",
    "img_HSV_eq_H_mirror_0_5x = cv2.resize(img_HSV_eq_H_mirror,None,fx=0.5,fy=0.5,interpolation=cv2.INTER_AREA)\n",
    "\n",
    "while True:\n",
    "    cv2.imshow('result',img_HSV_eq_H_mirror_0_5x)\n",
    "    \n",
    "    k = cv2.waitKey(0)\n",
    "    if k ==27:\n",
    "        cv2.destroyAllWindows()\n",
    "        break"
   ]
  },
  {
   "cell_type": "code",
   "execution_count": 3,
   "metadata": {},
   "outputs": [
    {
     "name": "stdout",
     "output_type": "stream",
     "text": [
      "(226, 20) (46, 255)\n"
     ]
    }
   ],
   "source": [
    "##method2\n",
    "\n",
    "point1 = [60,40]\n",
    "point2 = [420,510]\n",
    "\n",
    "#after mirror \n",
    "point1[0] = -60\n",
    "point2[0] = -420\n",
    "\n",
    "#shrink ratio\n",
    "x_fac = 0.5\n",
    "y_fac = 0.5     \n",
    "\n",
    "#resize col / row\n",
    "#resize_column = int(img_HSV_eq.shape[1]*x_fac)\n",
    "#resize_row = int(img_HSV_eq.shape[0]*y_fac)\n",
    "\n",
    "M = np.array([[0.5,0,0],[0,0.5,0]],dtype=np.float32)\n",
    "box = np.array([point1,point2],dtype=np.float32)\n",
    "\n",
    "resize_position = np.dot(M.T,box)\n",
    "resize_position = resize_position.astype('uint8')\n",
    "\n",
    "resize_p1 = tuple(resize_position[0])\n",
    "resize_p2 = tuple(resize_position[1])\n",
    "\n",
    "\n",
    "print(resize_p1,resize_p2)\n",
    "\n",
    "\n",
    "cv2.rectangle(img_HSV_eq_H_mirror_0_5x,resize_p1,resize_p2,(255,0,0),3)\n",
    "\n",
    "\n",
    "\n",
    "while True:\n",
    "    cv2.imshow('result',img_HSV_eq_H_mirror_0_5x)\n",
    "    \n",
    "    k = cv2.waitKey(0)\n",
    "    if k ==27:\n",
    "        cv2.destroyAllWindows()\n",
    "        break"
   ]
  },
  {
   "cell_type": "code",
   "execution_count": null,
   "metadata": {},
   "outputs": [],
   "source": []
  }
 ],
 "metadata": {
  "kernelspec": {
   "display_name": "Python 3",
   "language": "python",
   "name": "python3"
  },
  "language_info": {
   "codemirror_mode": {
    "name": "ipython",
    "version": 3
   },
   "file_extension": ".py",
   "mimetype": "text/x-python",
   "name": "python",
   "nbconvert_exporter": "python",
   "pygments_lexer": "ipython3",
   "version": "3.7.0"
  }
 },
 "nbformat": 4,
 "nbformat_minor": 2
}
