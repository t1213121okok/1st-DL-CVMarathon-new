{
 "cells": [
  {
   "cell_type": "code",
   "execution_count": null,
   "metadata": {},
   "outputs": [],
   "source": [
    "\n",
    "import cv2\n",
    "#import os\n",
    "#import matplotlib.pyplot as plt\n",
    "\n",
    "#relative_path = os.path.relpath('lena.png')\n",
    "#img = cv2.imread(relative_path , cv2.IMREAD_COLOR)\n",
    "relative_path = 'lena.png'\n",
    "\n",
    "\n",
    "#imread 讀取圖片\n",
    "img = cv2.imread(relative_path , cv2.IMREAD_COLOR) #cv2.IMREAD_COLOR can alos replace with 1\n",
    "img2 = cv2.imread(relative_path , cv2.IMREAD_GRAYSCALE) #cv2.IMREAD_GRAYSCALE can also replace with 0\n",
    "\n",
    "#cv2.IMREAD_UNCHANGED : 包含透明通道 (-1)\n",
    "\n",
    "\n",
    "\n",
    "\n",
    "cv2.imshow('rgb', img)\n",
    "cv2.imshow('rbg2',img2)\n",
    "cv2.waitKey(0) #waitkey作用為不斷刷新圖像，0代表顯示第一偵圖\n",
    "cv2.destroyAllWindows() #按下任意鍵關閉所有視窗\n",
    "\n",
    "\n",
    "\n"
   ]
  },
  {
   "cell_type": "code",
   "execution_count": null,
   "metadata": {},
   "outputs": [],
   "source": []
  },
  {
   "cell_type": "code",
   "execution_count": null,
   "metadata": {},
   "outputs": [],
   "source": []
  },
  {
   "cell_type": "code",
   "execution_count": null,
   "metadata": {},
   "outputs": [],
   "source": []
  }
 ],
 "metadata": {
  "kernelspec": {
   "display_name": "Python 3",
   "language": "python",
   "name": "python3"
  },
  "language_info": {
   "codemirror_mode": {
    "name": "ipython",
    "version": 3
   },
   "file_extension": ".py",
   "mimetype": "text/x-python",
   "name": "python",
   "nbconvert_exporter": "python",
   "pygments_lexer": "ipython3",
   "version": "3.7.0"
  }
 },
 "nbformat": 4,
 "nbformat_minor": 2
}
