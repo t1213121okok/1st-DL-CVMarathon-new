{
 "cells": [
  {
   "cell_type": "code",
   "execution_count": 1,
   "metadata": {},
   "outputs": [],
   "source": [
    "import cv2\n",
    "\n",
    "img_path='lena.png'\n",
    "\n",
    "img = cv2.imread(img_path,1)\n",
    "img_HLS = cv2.cvtColor(img,cv2.COLOR_BGR2HLS)\n",
    "img_LAB = cv2.cvtColor(img,cv2.COLOR_BGR2LAB)\n",
    "\n",
    "while True:\n",
    "    cv2.imshow('bgr',img) \n",
    "    cv2.imshow('HLS',img_HLS)\n",
    "    cv2.imshow('LAB',img_LAB)\n",
    "    k = cv2.waitKey(0)\n",
    "    if k == 27:\n",
    "        cv2.destroyAllWindows()\n",
    "        break"
   ]
  },
  {
   "cell_type": "code",
   "execution_count": null,
   "metadata": {},
   "outputs": [],
   "source": []
  }
 ],
 "metadata": {
  "kernelspec": {
   "display_name": "Python 3",
   "language": "python",
   "name": "python3"
  },
  "language_info": {
   "codemirror_mode": {
    "name": "ipython",
    "version": 3
   },
   "file_extension": ".py",
   "mimetype": "text/x-python",
   "name": "python",
   "nbconvert_exporter": "python",
   "pygments_lexer": "ipython3",
   "version": "3.7.0"
  }
 },
 "nbformat": 4,
 "nbformat_minor": 2
}
