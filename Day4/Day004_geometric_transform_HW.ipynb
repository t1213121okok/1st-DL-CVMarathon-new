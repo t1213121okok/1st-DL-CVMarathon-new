{
 "cells": [
  {
   "cell_type": "code",
   "execution_count": 2,
   "metadata": {},
   "outputs": [],
   "source": [
    "import cv2\n",
    "import numpy as np\n",
    "\n",
    "img_path = 'lena.png'\n",
    "img = cv2.imread(img_path,1)\n",
    "\n",
    "\n",
    "#cv2.imshow('img',img)\n",
    "\n",
    "#上下翻轉\n",
    "img_ver_rotate = img[::-1,:,:]\n",
    "#cv2.imshow('img_ver_rotate',img_ver_rotate)\n",
    "\n",
    "#拼湊\n",
    "img_imgVer = np.vstack((img,img_ver_rotate))\n",
    "\n",
    "#左右翻轉\n",
    "img_imgVer_hor_rotate = img_imgVer[:,::-1,:]\n",
    "\n",
    "#拼湊\n",
    "img_imgVer_imgHor = np.hstack((img_imgVer_hor_rotate,img_imgVer))\n",
    "\n",
    "\n",
    "img_test = cv2.resize(img_imgVer_imgHor,None,fx=0.5,fy=0.5)\n",
    "\n",
    "\n",
    "while True:\n",
    "    cv2.imshow('img_imgVer',img_imgVer)\n",
    "    cv2.imshow('img_test',img_test)\n",
    "    k=cv2.waitKey(0)\n",
    "    if k == 27:\n",
    "        cv2.destroyAllWindows()\n",
    "        break"
   ]
  },
  {
   "cell_type": "code",
   "execution_count": 3,
   "metadata": {},
   "outputs": [],
   "source": [
    "##比較鄰近差值 與 雙立方差值\n",
    "\n",
    "img_shrink = cv2.resize(img,None,fx=0.2,fy=0.2,interpolation=cv2.INTER_AREA)\n",
    "#cv2.imshow('img_shrink',img_shrink)\n",
    "\n",
    "fx , fy =5 , 5\n",
    "\n",
    "#INTER_NEAREST\n",
    "\n",
    "img_Nearest = cv2.resize(img_shrink,None,fx=fx,fy=fy,interpolation = cv2.INTER_NEAREST)\n",
    "\n",
    "#Original\n",
    "img_Ori = cv2.resize(img,img_Nearest.shape[:2])\n",
    "\n",
    "\n",
    "#Combine\n",
    "img_Nearest_Ori = np.hstack((img_Nearest,img_Ori))\n",
    "\n",
    "cv2.imshow('img_Nearest_Ori',img_Nearest_Ori)\n",
    "\n",
    "cv2.waitKey(0)\n",
    "cv2.destroyAllWindows()\n"
   ]
  },
  {
   "cell_type": "code",
   "execution_count": 4,
   "metadata": {},
   "outputs": [],
   "source": [
    "##平移練習\n",
    "\n",
    "#練習平移X 100 pixel ;y 50 pixel\n",
    "\n",
    "M = np.array([[1,0,100],\n",
    "             [0,1,50]],dtype=np.float32)\n",
    "#第一行為移動x方向,第一欄為1,第3位為距離\n",
    "#第二行為移動y方向,第二欄為1,第3位為距離\n",
    "\n",
    "img_shift = cv2.warpAffine(img,M,(img.shape[1],img.shape[0]))\n",
    "\n",
    "img_imgShift = np.hstack((img,img_shift))\n",
    "\n",
    "cv2.imshow('img_imgShift',img_imgShift)\n",
    "\n",
    "cv2.waitKey(0)\n",
    "cv2.destroyAllWindows()\n"
   ]
  },
  {
   "cell_type": "code",
   "execution_count": null,
   "metadata": {},
   "outputs": [],
   "source": []
  }
 ],
 "metadata": {
  "kernelspec": {
   "display_name": "Python 3",
   "language": "python",
   "name": "python3"
  },
  "language_info": {
   "codemirror_mode": {
    "name": "ipython",
    "version": 3
   },
   "file_extension": ".py",
   "mimetype": "text/x-python",
   "name": "python",
   "nbconvert_exporter": "python",
   "pygments_lexer": "ipython3",
   "version": "3.7.0"
  }
 },
 "nbformat": 4,
 "nbformat_minor": 2
}
