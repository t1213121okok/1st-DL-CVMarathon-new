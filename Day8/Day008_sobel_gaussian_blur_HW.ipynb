{
 "cells": [
  {
   "cell_type": "code",
   "execution_count": 2,
   "metadata": {},
   "outputs": [],
   "source": [
    "import cv2\n",
    "import numpy as np\n",
    "\n",
    "img_path = 'lena.png'\n",
    "img = cv2.imread(img_path,1)\n",
    "\n",
    "#模糊\n",
    "\n",
    "img_gray = cv2.cvtColor(img,cv2.COLOR_BGR2GRAY)\n",
    "\n",
    "img_sobel_x = cv2.Sobel(img_gray,cv2.CV_16S,dx=1,dy=0,ksize=3)\n",
    "img_sobel_x_uint8 = cv2.Sobel(img_gray,cv2.CV_8U,dx=1,dy=0,ksize=3)\n",
    "\n",
    "img_sobel_x_tran = cv2.convertScaleAbs(img_sobel_x)\n",
    "\n",
    "\n",
    "\n",
    "\n",
    "img_out = np.hstack((img_sobel_x_tran,img_sobel_x_uint8))\n",
    "\n",
    "while True:\n",
    "    cv2.imshow('comparable',img_out)\n",
    "    k=cv2.waitKey(0)\n",
    "    if k ==27:\n",
    "        cv2.destroyAllWindows()\n",
    "        break\n",
    "    \n",
    "    \n",
    "img_sobel_x1 = cv2.Sobel(img_gray,cv2.CV_16S,1,0,ksize=3)\n",
    "img_sobel_x2 = cv2.Sobel(img_gray,cv2.CV_16S,2,0,ksize=3)\n",
    "\n",
    "img_sobel_x1_u8 = cv2.convertScaleAbs(img_sobel_x1)\n",
    "img_sobel_x2_u8 = cv2.convertScaleAbs(img_sobel_x2)\n",
    "\n",
    "\n",
    "img_sobel_times = np.hstack((img_sobel_x1_u8,img_sobel_x2_u8))\n",
    "\n",
    "while True:\n",
    "#    cv2.imshow('comparable',img_out)\n",
    "    cv2.imshow('img_sobel_times',img_sobel_times)\n",
    "    k=cv2.waitKey(0)\n",
    "    if k == 27:\n",
    "        cv2.destroyAllWindows()\n",
    "        break\n"
   ]
  },
  {
   "cell_type": "code",
   "execution_count": null,
   "metadata": {},
   "outputs": [],
   "source": []
  }
 ],
 "metadata": {
  "kernelspec": {
   "display_name": "Python 3",
   "language": "python",
   "name": "python3"
  },
  "language_info": {
   "codemirror_mode": {
    "name": "ipython",
    "version": 3
   },
   "file_extension": ".py",
   "mimetype": "text/x-python",
   "name": "python",
   "nbconvert_exporter": "python",
   "pygments_lexer": "ipython3",
   "version": "3.7.0"
  }
 },
 "nbformat": 4,
 "nbformat_minor": 2
}
