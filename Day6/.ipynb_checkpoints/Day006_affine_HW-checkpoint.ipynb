{
 "cells": [
  {
   "cell_type": "code",
   "execution_count": 2,
   "metadata": {},
   "outputs": [],
   "source": [
    "import cv2\n",
    "import numpy as np\n",
    "\n",
    "\n",
    "\n",
    "img_path = 'lena.png'\n",
    "img = cv2.imread(img_path,1)\n",
    "\n",
    "row, col = img.shape[:2]\n",
    "\n",
    "#旋轉矩陣\n",
    "M_rotate = cv2.getRotationMatrix2D((col//2,row//2),45,0.5)\n",
    "#平移矩陣\n",
    "M_trans = np.array([[1,0,100],[0,1,-50]],dtype=np.float32)\n",
    "\n",
    "#選轉\n",
    "\n",
    "img_rot = cv2.warpAffine(img,M_rotate,(col,row))\n",
    "\n",
    "#平移\n",
    "img_rot_trans = cv2.warpAffine(img_rot,M_trans,(col,row))\n",
    "\n",
    "img_show = np.hstack((img,img_rot,img_rot_trans))\n",
    "img_show_resize = cv2.resize(img_show,None,fx=0.5,fy=0.5,interpolation=cv2.INTER_AREA)\n",
    "\n",
    "\n",
    "while True:\n",
    "    cv2.imshow('Rotate 45 , scale 0.5, x=100,y=-50', img_show_resize)\n",
    "    k=cv2.waitKey(0)\n",
    "    if k ==27:\n",
    "        cv2.destroyAllWindows()\n",
    "        break\n",
    "\n"
   ]
  },
  {
   "cell_type": "code",
   "execution_count": null,
   "metadata": {},
   "outputs": [],
   "source": []
  }
 ],
 "metadata": {
  "kernelspec": {
   "display_name": "Python 3",
   "language": "python",
   "name": "python3"
  },
  "language_info": {
   "codemirror_mode": {
    "name": "ipython",
    "version": 3
   },
   "file_extension": ".py",
   "mimetype": "text/x-python",
   "name": "python",
   "nbconvert_exporter": "python",
   "pygments_lexer": "ipython3",
   "version": "3.7.0"
  }
 },
 "nbformat": 4,
 "nbformat_minor": 2
}
